{
  "nbformat": 4,
  "nbformat_minor": 0,
  "metadata": {
    "colab": {
      "provenance": []
    },
    "kernelspec": {
      "name": "python3",
      "display_name": "Python 3"
    },
    "language_info": {
      "name": "python"
    }
  },
  "cells": [
    {
      "cell_type": "markdown",
      "source": [
        "### Задача 1 (1 балл)\n",
        "\n",
        "\n",
        "$ 1.$\n",
        "\n",
        "Создайте с помощью np.random.randint numpy массив из 20-ти рандомных чисел.\n",
        "Посчитайте с помощью методов numpy и выведите на экран:\n",
        "\n",
        "* среднее значение в массиве\n",
        "* минимальное значение в массиве\n",
        "* максимальное значение в массиве\n",
        "* индекс минимального элемента в массиве\n",
        "* массив, который содержит те элементы исходного массива, которые больше 10\n",
        "\n",
        "\n",
        "$ 2.$\n",
        "1. Сгенерируйте рандомный массив b размера 3x1.\n",
        "2. Сгенерируйте матрицу С размера 3x3.\n",
        "3. Решите систему Cx = b с помощью numpy.linalg.solve (как это делать - можно почитать в документации: https://numpy.org/doc/stable/reference/generated/numpy.linalg.solve.html)\n",
        "4. Подумайте/погуглите, в каком случае numpy.linalg.solve вернет ошибку LinAlgError. Воспроизведите этот случай."
      ],
      "metadata": {
        "id": "ye_4O1r4eDZ_"
      }
    },
    {
      "cell_type": "markdown",
      "source": [
        "Пользуйтесь документацией numpy:  https://numpy.org"
      ],
      "metadata": {
        "id": "m8DDcNCt03NQ"
      }
    },
    {
      "cell_type": "markdown",
      "source": [
        "Задание 1:"
      ],
      "metadata": {
        "id": "6vCBSES5DugP"
      }
    },
    {
      "cell_type": "code",
      "source": [
        "import numpy as np"
      ],
      "metadata": {
        "id": "GqO9jTvhofAf"
      },
      "execution_count": 27,
      "outputs": []
    },
    {
      "cell_type": "code",
      "source": [
        "a = np.array(np.random.randint(0, 100,size=20))\n",
        "a"
      ],
      "metadata": {
        "id": "jhFo369JBlGL",
        "outputId": "47e42305-8226-4906-fd12-4e7c0ea2f898",
        "colab": {
          "base_uri": "https://localhost:8080/"
        }
      },
      "execution_count": 28,
      "outputs": [
        {
          "output_type": "execute_result",
          "data": {
            "text/plain": [
              "array([46, 28,  6, 12, 80, 21, 58, 20, 79, 42, 72, 48, 91, 57, 62, 33, 52,\n",
              "       62, 57, 98])"
            ]
          },
          "metadata": {},
          "execution_count": 28
        }
      ]
    },
    {
      "cell_type": "code",
      "source": [
        "np.mean(a)"
      ],
      "metadata": {
        "id": "Rf2Rw_DGCWvH",
        "outputId": "4aa68b88-1bf9-479c-8c9c-f7bf317b04f0",
        "colab": {
          "base_uri": "https://localhost:8080/"
        }
      },
      "execution_count": 29,
      "outputs": [
        {
          "output_type": "execute_result",
          "data": {
            "text/plain": [
              "51.2"
            ]
          },
          "metadata": {},
          "execution_count": 29
        }
      ]
    },
    {
      "cell_type": "code",
      "source": [
        "np.min(a)"
      ],
      "metadata": {
        "id": "F6WG81vGCkpz",
        "outputId": "04d89f45-e78e-40c4-d077-7a8875920a69",
        "colab": {
          "base_uri": "https://localhost:8080/"
        }
      },
      "execution_count": 30,
      "outputs": [
        {
          "output_type": "execute_result",
          "data": {
            "text/plain": [
              "6"
            ]
          },
          "metadata": {},
          "execution_count": 30
        }
      ]
    },
    {
      "cell_type": "code",
      "source": [
        "np.max(a)"
      ],
      "metadata": {
        "id": "_uhYnT0ZCpPM",
        "outputId": "ad552a9c-1433-4a3f-f744-a7809ec8fee8",
        "colab": {
          "base_uri": "https://localhost:8080/"
        }
      },
      "execution_count": 31,
      "outputs": [
        {
          "output_type": "execute_result",
          "data": {
            "text/plain": [
              "98"
            ]
          },
          "metadata": {},
          "execution_count": 31
        }
      ]
    },
    {
      "cell_type": "code",
      "source": [
        "np.argmin(a)"
      ],
      "metadata": {
        "id": "0C6CqGc-Ct7T",
        "outputId": "6cd0e8d6-cdf3-474b-959b-30f102fd028c",
        "colab": {
          "base_uri": "https://localhost:8080/"
        }
      },
      "execution_count": 32,
      "outputs": [
        {
          "output_type": "execute_result",
          "data": {
            "text/plain": [
              "2"
            ]
          },
          "metadata": {},
          "execution_count": 32
        }
      ]
    },
    {
      "cell_type": "code",
      "source": [
        "a[a>10]"
      ],
      "metadata": {
        "id": "1zD9OWBMDkfr",
        "outputId": "32e58c6b-ba62-4d8c-d30a-2e4bb7dd1215",
        "colab": {
          "base_uri": "https://localhost:8080/"
        }
      },
      "execution_count": null,
      "outputs": [
        {
          "output_type": "execute_result",
          "data": {
            "text/plain": [
              "array([12, 70, 83, 16, 24, 85, 44, 33, 56, 93, 14, 85, 31, 35, 61, 49, 64,\n",
              "       70, 54, 82])"
            ]
          },
          "metadata": {},
          "execution_count": 7
        }
      ]
    },
    {
      "cell_type": "markdown",
      "source": [
        "Задание 2:"
      ],
      "metadata": {
        "id": "sgDr2D7tD05s"
      }
    },
    {
      "cell_type": "code",
      "source": [
        "b = np.array([np.random.randint(0, 100, size=(3,1))])\n",
        "b"
      ],
      "metadata": {
        "id": "plHqkBhrD3Yy",
        "outputId": "88487613-1168-4c6d-8956-e213ed8231e5",
        "colab": {
          "base_uri": "https://localhost:8080/"
        }
      },
      "execution_count": null,
      "outputs": [
        {
          "output_type": "execute_result",
          "data": {
            "text/plain": [
              "array([[[97],\n",
              "        [88],\n",
              "        [18]]])"
            ]
          },
          "metadata": {},
          "execution_count": 8
        }
      ]
    },
    {
      "cell_type": "code",
      "source": [
        "C = np.array([np.random.randint(0, 100, size=(3,3))])\n",
        "C"
      ],
      "metadata": {
        "id": "1GPgvnr6D30q",
        "outputId": "5829cad3-0821-4fd9-c4d0-16a55442ab09",
        "colab": {
          "base_uri": "https://localhost:8080/"
        }
      },
      "execution_count": null,
      "outputs": [
        {
          "output_type": "execute_result",
          "data": {
            "text/plain": [
              "array([[[43, 45, 74],\n",
              "        [83, 76, 49],\n",
              "        [90, 30, 58]]])"
            ]
          },
          "metadata": {},
          "execution_count": 9
        }
      ]
    },
    {
      "cell_type": "code",
      "source": [
        "x = np.linalg.solve(C, b)\n",
        "x"
      ],
      "metadata": {
        "id": "wRE5-lq8D4AO",
        "outputId": "043a795b-9347-4c72-c7e6-16d1217faa4c",
        "colab": {
          "base_uri": "https://localhost:8080/"
        }
      },
      "execution_count": null,
      "outputs": [
        {
          "output_type": "execute_result",
          "data": {
            "text/plain": [
              "array([[[-0.8848072 ],\n",
              "        [ 1.55870051],\n",
              "        [ 0.87709712]]])"
            ]
          },
          "metadata": {},
          "execution_count": 10
        }
      ]
    },
    {
      "cell_type": "code",
      "source": [
        "V = np.zeros((3,3))\n",
        "V"
      ],
      "metadata": {
        "id": "ufsu1kDSJjzJ",
        "outputId": "fba0f90c-123b-4e90-fd0f-a649ee0e6cb7",
        "colab": {
          "base_uri": "https://localhost:8080/"
        }
      },
      "execution_count": null,
      "outputs": [
        {
          "output_type": "execute_result",
          "data": {
            "text/plain": [
              "array([[0., 0., 0.],\n",
              "       [0., 0., 0.],\n",
              "       [0., 0., 0.]])"
            ]
          },
          "metadata": {},
          "execution_count": 11
        }
      ]
    },
    {
      "cell_type": "code",
      "source": [
        "x = np.linalg.solve(V,b)\n"
      ],
      "metadata": {
        "id": "lC19duSeI7mP",
        "outputId": "486a9b7c-53ff-4783-a3f4-0008f2966912",
        "colab": {
          "base_uri": "https://localhost:8080/",
          "height": 306
        }
      },
      "execution_count": null,
      "outputs": [
        {
          "output_type": "error",
          "ename": "LinAlgError",
          "evalue": "Singular matrix",
          "traceback": [
            "\u001b[0;31m---------------------------------------------------------------------------\u001b[0m",
            "\u001b[0;31mLinAlgError\u001b[0m                               Traceback (most recent call last)",
            "\u001b[0;32m<ipython-input-12-4d1ccffa4214>\u001b[0m in \u001b[0;36m<cell line: 1>\u001b[0;34m()\u001b[0m\n\u001b[0;32m----> 1\u001b[0;31m \u001b[0mx\u001b[0m \u001b[0;34m=\u001b[0m \u001b[0mnp\u001b[0m\u001b[0;34m.\u001b[0m\u001b[0mlinalg\u001b[0m\u001b[0;34m.\u001b[0m\u001b[0msolve\u001b[0m\u001b[0;34m(\u001b[0m\u001b[0mV\u001b[0m\u001b[0;34m,\u001b[0m\u001b[0mb\u001b[0m\u001b[0;34m)\u001b[0m\u001b[0;34m\u001b[0m\u001b[0;34m\u001b[0m\u001b[0m\n\u001b[0m",
            "\u001b[0;32m/usr/local/lib/python3.10/dist-packages/numpy/linalg/linalg.py\u001b[0m in \u001b[0;36msolve\u001b[0;34m(a, b)\u001b[0m\n\u001b[1;32m    407\u001b[0m     \u001b[0msignature\u001b[0m \u001b[0;34m=\u001b[0m \u001b[0;34m'DD->D'\u001b[0m \u001b[0;32mif\u001b[0m \u001b[0misComplexType\u001b[0m\u001b[0;34m(\u001b[0m\u001b[0mt\u001b[0m\u001b[0;34m)\u001b[0m \u001b[0;32melse\u001b[0m \u001b[0;34m'dd->d'\u001b[0m\u001b[0;34m\u001b[0m\u001b[0;34m\u001b[0m\u001b[0m\n\u001b[1;32m    408\u001b[0m     \u001b[0mextobj\u001b[0m \u001b[0;34m=\u001b[0m \u001b[0mget_linalg_error_extobj\u001b[0m\u001b[0;34m(\u001b[0m\u001b[0m_raise_linalgerror_singular\u001b[0m\u001b[0;34m)\u001b[0m\u001b[0;34m\u001b[0m\u001b[0;34m\u001b[0m\u001b[0m\n\u001b[0;32m--> 409\u001b[0;31m     \u001b[0mr\u001b[0m \u001b[0;34m=\u001b[0m \u001b[0mgufunc\u001b[0m\u001b[0;34m(\u001b[0m\u001b[0ma\u001b[0m\u001b[0;34m,\u001b[0m \u001b[0mb\u001b[0m\u001b[0;34m,\u001b[0m \u001b[0msignature\u001b[0m\u001b[0;34m=\u001b[0m\u001b[0msignature\u001b[0m\u001b[0;34m,\u001b[0m \u001b[0mextobj\u001b[0m\u001b[0;34m=\u001b[0m\u001b[0mextobj\u001b[0m\u001b[0;34m)\u001b[0m\u001b[0;34m\u001b[0m\u001b[0;34m\u001b[0m\u001b[0m\n\u001b[0m\u001b[1;32m    410\u001b[0m \u001b[0;34m\u001b[0m\u001b[0m\n\u001b[1;32m    411\u001b[0m     \u001b[0;32mreturn\u001b[0m \u001b[0mwrap\u001b[0m\u001b[0;34m(\u001b[0m\u001b[0mr\u001b[0m\u001b[0;34m.\u001b[0m\u001b[0mastype\u001b[0m\u001b[0;34m(\u001b[0m\u001b[0mresult_t\u001b[0m\u001b[0;34m,\u001b[0m \u001b[0mcopy\u001b[0m\u001b[0;34m=\u001b[0m\u001b[0;32mFalse\u001b[0m\u001b[0;34m)\u001b[0m\u001b[0;34m)\u001b[0m\u001b[0;34m\u001b[0m\u001b[0;34m\u001b[0m\u001b[0m\n",
            "\u001b[0;32m/usr/local/lib/python3.10/dist-packages/numpy/linalg/linalg.py\u001b[0m in \u001b[0;36m_raise_linalgerror_singular\u001b[0;34m(err, flag)\u001b[0m\n\u001b[1;32m    110\u001b[0m \u001b[0;34m\u001b[0m\u001b[0m\n\u001b[1;32m    111\u001b[0m \u001b[0;32mdef\u001b[0m \u001b[0m_raise_linalgerror_singular\u001b[0m\u001b[0;34m(\u001b[0m\u001b[0merr\u001b[0m\u001b[0;34m,\u001b[0m \u001b[0mflag\u001b[0m\u001b[0;34m)\u001b[0m\u001b[0;34m:\u001b[0m\u001b[0;34m\u001b[0m\u001b[0;34m\u001b[0m\u001b[0m\n\u001b[0;32m--> 112\u001b[0;31m     \u001b[0;32mraise\u001b[0m \u001b[0mLinAlgError\u001b[0m\u001b[0;34m(\u001b[0m\u001b[0;34m\"Singular matrix\"\u001b[0m\u001b[0;34m)\u001b[0m\u001b[0;34m\u001b[0m\u001b[0;34m\u001b[0m\u001b[0m\n\u001b[0m\u001b[1;32m    113\u001b[0m \u001b[0;34m\u001b[0m\u001b[0m\n\u001b[1;32m    114\u001b[0m \u001b[0;32mdef\u001b[0m \u001b[0m_raise_linalgerror_nonposdef\u001b[0m\u001b[0;34m(\u001b[0m\u001b[0merr\u001b[0m\u001b[0;34m,\u001b[0m \u001b[0mflag\u001b[0m\u001b[0;34m)\u001b[0m\u001b[0;34m:\u001b[0m\u001b[0;34m\u001b[0m\u001b[0;34m\u001b[0m\u001b[0m\n",
            "\u001b[0;31mLinAlgError\u001b[0m: Singular matrix"
          ]
        }
      ]
    },
    {
      "cell_type": "markdown",
      "source": [
        "### Задача 2 (0.5 балла)\n",
        "Ниже создаются две матрицы A, B."
      ],
      "metadata": {
        "id": "q-oSixsb09RV"
      }
    },
    {
      "cell_type": "code",
      "source": [
        "A = np.array([[1, 2, 30], [2, 1, 3], [20, 1, 3]])\n",
        "B = np.array([[8, 12, 19], [12, 13, 11], [10, 2, 3]])"
      ],
      "metadata": {
        "id": "F93ouxr91AK-"
      },
      "execution_count": null,
      "outputs": []
    },
    {
      "cell_type": "code",
      "source": [
        "A"
      ],
      "metadata": {
        "colab": {
          "base_uri": "https://localhost:8080/"
        },
        "id": "WCm95Nuu1e_L",
        "outputId": "e577763c-2de4-4b4f-c938-6b09f4158f87"
      },
      "execution_count": null,
      "outputs": [
        {
          "output_type": "execute_result",
          "data": {
            "text/plain": [
              "array([[ 1,  2, 30],\n",
              "       [ 2,  1,  3],\n",
              "       [20,  1,  3]])"
            ]
          },
          "metadata": {},
          "execution_count": 14
        }
      ]
    },
    {
      "cell_type": "code",
      "source": [
        "B"
      ],
      "metadata": {
        "colab": {
          "base_uri": "https://localhost:8080/"
        },
        "id": "vEL0jLkq1fd_",
        "outputId": "850515f0-21ec-45a0-e434-9a109a938f49"
      },
      "execution_count": null,
      "outputs": [
        {
          "output_type": "execute_result",
          "data": {
            "text/plain": [
              "array([[ 8, 12, 19],\n",
              "       [12, 13, 11],\n",
              "       [10,  2,  3]])"
            ]
          },
          "metadata": {},
          "execution_count": 15
        }
      ]
    },
    {
      "cell_type": "markdown",
      "source": [
        "С помощью numpy найдите:\n",
        "1. Сумма матриц A и B\n",
        "2. Произведение матриц A и B\n",
        "3. Произведение матриц B и A\n",
        "4. Определители матриц A и B\n",
        "5. Матрицу $A^T + BA$\n",
        "6. Матрицу, обратную к матрице A\n",
        "\n",
        "Пользуйтесь документацией numpy:  https://numpy.org"
      ],
      "metadata": {
        "id": "Unitf67H1lLh"
      }
    },
    {
      "cell_type": "code",
      "source": [
        "# Сумма матрицы А и В\n",
        "A+B"
      ],
      "metadata": {
        "colab": {
          "base_uri": "https://localhost:8080/"
        },
        "id": "QZ3mrKpvM7z2",
        "outputId": "571cc123-1ed3-413d-d3e4-453af43ad20e"
      },
      "execution_count": null,
      "outputs": [
        {
          "output_type": "execute_result",
          "data": {
            "text/plain": [
              "array([[ 9, 14, 49],\n",
              "       [14, 14, 14],\n",
              "       [30,  3,  6]])"
            ]
          },
          "metadata": {},
          "execution_count": 16
        }
      ]
    },
    {
      "cell_type": "code",
      "source": [
        "# Произведение матрицы А на В\n",
        "np.dot(A, B)"
      ],
      "metadata": {
        "colab": {
          "base_uri": "https://localhost:8080/"
        },
        "id": "2L2zFFY7NWtM",
        "outputId": "ae1fbd0f-11bd-4b8a-e6ac-2e159645813b"
      },
      "execution_count": null,
      "outputs": [
        {
          "output_type": "execute_result",
          "data": {
            "text/plain": [
              "array([[332,  98, 131],\n",
              "       [ 58,  43,  58],\n",
              "       [202, 259, 400]])"
            ]
          },
          "metadata": {},
          "execution_count": 17
        }
      ]
    },
    {
      "cell_type": "code",
      "source": [
        "# Произведение матрицы В на А\n",
        "np.dot(B, A)"
      ],
      "metadata": {
        "colab": {
          "base_uri": "https://localhost:8080/"
        },
        "id": "1g25rKrONjVx",
        "outputId": "ee51e5cb-b922-4535-8b54-9e618b6fff37"
      },
      "execution_count": null,
      "outputs": [
        {
          "output_type": "execute_result",
          "data": {
            "text/plain": [
              "array([[412,  47, 333],\n",
              "       [258,  48, 432],\n",
              "       [ 74,  25, 315]])"
            ]
          },
          "metadata": {},
          "execution_count": 18
        }
      ]
    },
    {
      "cell_type": "code",
      "source": [
        "# Определитель матрицы А\n",
        "np.linalg.det(A)"
      ],
      "metadata": {
        "colab": {
          "base_uri": "https://localhost:8080/"
        },
        "id": "WHJEOWThNy4B",
        "outputId": "2973c60b-8be7-42d8-dd10-8f8297ddacd9"
      },
      "execution_count": null,
      "outputs": [
        {
          "output_type": "execute_result",
          "data": {
            "text/plain": [
              "-432.00000000000017"
            ]
          },
          "metadata": {},
          "execution_count": 19
        }
      ]
    },
    {
      "cell_type": "code",
      "source": [
        "# Определитель матрицы В\n",
        "np.linalg.det(B)"
      ],
      "metadata": {
        "colab": {
          "base_uri": "https://localhost:8080/"
        },
        "id": "CQuEQXRMOG3K",
        "outputId": "66c8c359-f768-4425-f98f-148c44b3c8ae"
      },
      "execution_count": null,
      "outputs": [
        {
          "output_type": "execute_result",
          "data": {
            "text/plain": [
              "-990.0000000000001"
            ]
          },
          "metadata": {},
          "execution_count": 20
        }
      ]
    },
    {
      "cell_type": "code",
      "source": [
        "A.T+np.dot(B,A)"
      ],
      "metadata": {
        "colab": {
          "base_uri": "https://localhost:8080/"
        },
        "id": "XJmRyff-OirJ",
        "outputId": "48604741-bf75-4fd4-e64f-e61d44e4e914"
      },
      "execution_count": null,
      "outputs": [
        {
          "output_type": "execute_result",
          "data": {
            "text/plain": [
              "array([[413,  49, 353],\n",
              "       [260,  49, 433],\n",
              "       [104,  28, 318]])"
            ]
          },
          "metadata": {},
          "execution_count": 21
        }
      ]
    },
    {
      "cell_type": "code",
      "source": [
        "# Обратная матрица\n",
        "np.linalg.inv(A)"
      ],
      "metadata": {
        "colab": {
          "base_uri": "https://localhost:8080/"
        },
        "id": "RyiLY4O5O52k",
        "outputId": "173308fd-a04f-42e2-ad2b-b95d7b0c9fe3"
      },
      "execution_count": null,
      "outputs": [
        {
          "output_type": "execute_result",
          "data": {
            "text/plain": [
              "array([[-5.55111512e-18, -5.55555556e-02,  5.55555556e-02],\n",
              "       [-1.25000000e-01,  1.38194444e+00, -1.31944444e-01],\n",
              "       [ 4.16666667e-02, -9.02777778e-02,  6.94444444e-03]])"
            ]
          },
          "metadata": {},
          "execution_count": 22
        }
      ]
    },
    {
      "cell_type": "code",
      "source": [
        "import time # понадобится для замера времени в следующей задаче"
      ],
      "metadata": {
        "id": "PrhUt9Ux1L9X"
      },
      "execution_count": null,
      "outputs": []
    },
    {
      "cell_type": "markdown",
      "source": [],
      "metadata": {
        "id": "dQCB9hqE5Mnn"
      }
    },
    {
      "cell_type": "markdown",
      "source": [
        "### Задача 3 (2 балла)\n",
        "\n",
        "Сравните производительность операций умножения матриц с использованием библиотеки NumPy и стандартных списков Python для матриц размером от 2x2 до 100x100.\n",
        "\n",
        "1. Сгенерируйте две матрицы A и B случайного размера от nxn, заполненные случайными целыми числами от 1 до 50.\n",
        "2. Используя библиотеку NumPy, выполните умножение матриц A и B. Измерьте время выполнения операции.\n",
        "3. Реализуйте функцию для умножения матриц с помощью стандартных списков Python. Измерьте время выполнения этой операции.\n",
        "4. Сделайте вышеперечисленные пункты для n=2,...100 (используйте цикл).\n",
        "5. Для какого-нибудь n проверьте, что результаты умножения (получившаяся матрица) совпадают.\n",
        "\n",
        "\n",
        "6. Постройте график, где по оси X будет размер матрицы, по оси Y - время выполнения операции. Постройте два графика (для numpy и для стандартных списков)\n",
        "Сделайте выводы.\n",
        "В качестве шаблона можете использовать части кода ниже (а можете не использовать)\n"
      ],
      "metadata": {
        "id": "pWPq7FRRkkAF"
      }
    },
    {
      "cell_type": "code",
      "source": [
        "def multiply_list(A, B):\n",
        "    result = np.zeros((len(A), len(A))) # создаем нулевую квадратную матрицу n*n\n",
        "    for i in range(len(A)):\n",
        "      for j in range(len(B[0])):\n",
        "        for k in range(len(B)):\n",
        "            result[i][j] += A[i][k]*B[k][j]\n",
        "    return result\n",
        "\n",
        "list_times = []\n",
        "numpy_times = []\n",
        "list_times = []\n",
        "for n in range(2, 101):\n",
        "    A = np.random.randint(1, 51, size=(n, n))\n",
        "    B = np.random.randint(1, 51, size=(n, n))\n",
        "    A_list = A.tolist()\n",
        "    B_list = B.tolist()\n",
        "\n",
        "    start_np = time.time() # заводим отсчет времени\n",
        "    dot = np.dot(A, B) # умножаем матрицы используя numpy\n",
        "    end_np = time.time() # останавливаем счетчик времени\n",
        "    numpy_times.append(end_np-start_np) # Добавляем результат в список\n",
        "\n",
        "    start_list = time.time()# заводим отсчет времени\n",
        "    multiply_list(A, B) # умножаем матрицы используя циклы\n",
        "    end_list = time.time() # останавливаем счетчик времени\n",
        "    list_times.append(end_list-start_list)# Добавляем результат в список\n",
        "\n",
        "    if n == 3: # Выводим результаты подсчетов для n = 3\n",
        "      print(np.dot(A, B))\n",
        "      print(multiply_list(A, B))\n",
        "\n"
      ],
      "metadata": {
        "id": "2PHx1CNP2vaS",
        "colab": {
          "base_uri": "https://localhost:8080/"
        },
        "outputId": "9223d63a-9fe7-41fe-95bd-fa97ff96d339"
      },
      "execution_count": null,
      "outputs": [
        {
          "output_type": "stream",
          "name": "stdout",
          "text": [
            "[[1629 1946 2742]\n",
            " [1470 2036 2902]\n",
            " [1092 1936 1570]]\n",
            "[[1629. 1946. 2742.]\n",
            " [1470. 2036. 2902.]\n",
            " [1092. 1936. 1570.]]\n"
          ]
        }
      ]
    },
    {
      "cell_type": "code",
      "source": [
        "import matplotlib.pyplot as plt\n",
        "\n",
        "sizes = range(2, 101)\n",
        "\n",
        "plt.figure(figsize=(12, 6))\n",
        "plt.plot(sizes, numpy_times, label='NumPy')\n",
        "plt.plot(sizes, list_times, label='List')\n",
        "plt.xlabel('n')\n",
        "plt.ylabel('Time (ms)')\n",
        "plt.title('Время выполнения умножения')\n",
        "plt.legend()\n",
        "plt.grid()\n",
        "plt.show()"
      ],
      "metadata": {
        "id": "FKD4JOEHlCLq",
        "colab": {
          "base_uri": "https://localhost:8080/",
          "height": 564
        },
        "outputId": "d82f7978-01f6-4b95-ca3c-8d57f3968a14"
      },
      "execution_count": null,
      "outputs": [
        {
          "output_type": "display_data",
          "data": {
            "text/plain": [
              "<Figure size 1200x600 with 1 Axes>"
            ],
            "image/png": "[encoded data removed]"
          },
          "metadata": {}
        }
      ]
    }
  ]
}